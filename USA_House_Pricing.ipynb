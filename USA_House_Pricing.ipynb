{
 "cells": [
  {
   "cell_type": "code",
   "execution_count": 309,
   "metadata": {},
   "outputs": [],
   "source": [
    "# import libraries\n",
    "import pandas as pd\n",
    "import matplotlib.pyplot as plt\n",
    "%matplotlib inline\n",
    "import seaborn as sns"
   ]
  },
  {
   "cell_type": "code",
   "execution_count": 350,
   "metadata": {},
   "outputs": [],
   "source": [
    "df=pd.read_excel('dataset.xlsx')\n",
    "# data source: https://fred.stlouisfed.org/"
   ]
  },
  {
   "cell_type": "code",
   "execution_count": 311,
   "metadata": {},
   "outputs": [
    {
     "data": {
      "text/html": [
       "<div>\n",
       "<style scoped>\n",
       "    .dataframe tbody tr th:only-of-type {\n",
       "        vertical-align: middle;\n",
       "    }\n",
       "\n",
       "    .dataframe tbody tr th {\n",
       "        vertical-align: top;\n",
       "    }\n",
       "\n",
       "    .dataframe thead th {\n",
       "        text-align: right;\n",
       "    }\n",
       "</style>\n",
       "<table border=\"1\" class=\"dataframe\">\n",
       "  <thead>\n",
       "    <tr style=\"text-align: right;\">\n",
       "      <th></th>\n",
       "      <th>Year</th>\n",
       "      <th>Home Prices Index</th>\n",
       "      <th>House Starting</th>\n",
       "      <th>Employment-Popu. Ratio</th>\n",
       "      <th>Unemployment rate</th>\n",
       "      <th>Permit</th>\n",
       "      <th>Homeownership Rate</th>\n",
       "      <th>Population</th>\n",
       "      <th>Med. Household Income</th>\n",
       "      <th>Personal Savings</th>\n",
       "      <th>Real Estate Loans</th>\n",
       "      <th>Real Estate Loans.1</th>\n",
       "      <th>Personal Income per capita</th>\n",
       "      <th>Owners Equity in Real Estate</th>\n",
       "      <th>Real Estate loans</th>\n",
       "      <th>Total Housing Units</th>\n",
       "      <th>Fixed Mortgage rate</th>\n",
       "      <th>Fixed Mortgage rate.1</th>\n",
       "      <th>houses for sale/houses sold</th>\n",
       "    </tr>\n",
       "  </thead>\n",
       "  <tbody>\n",
       "    <tr>\n",
       "      <th>0</th>\n",
       "      <td>2000</td>\n",
       "      <td>104.767917</td>\n",
       "      <td>1573.333333</td>\n",
       "      <td>64.408333</td>\n",
       "      <td>3.966667</td>\n",
       "      <td>1598.333333</td>\n",
       "      <td>67.375</td>\n",
       "      <td>33567.166667</td>\n",
       "      <td>41990.0</td>\n",
       "      <td>356.058333</td>\n",
       "      <td>1576.631325</td>\n",
       "      <td>11.700000</td>\n",
       "      <td>30640</td>\n",
       "      <td>7589.28200</td>\n",
       "      <td>NaN</td>\n",
       "      <td>104705</td>\n",
       "      <td>8.053462</td>\n",
       "      <td>7.718269</td>\n",
       "      <td>4.233333</td>\n",
       "    </tr>\n",
       "    <tr>\n",
       "      <th>1</th>\n",
       "      <td>2001</td>\n",
       "      <td>113.178500</td>\n",
       "      <td>1601.166667</td>\n",
       "      <td>63.666667</td>\n",
       "      <td>4.741667</td>\n",
       "      <td>1637.166667</td>\n",
       "      <td>67.825</td>\n",
       "      <td>34148.666667</td>\n",
       "      <td>42228.0</td>\n",
       "      <td>389.366667</td>\n",
       "      <td>1698.124408</td>\n",
       "      <td>7.166667</td>\n",
       "      <td>31574</td>\n",
       "      <td>8995.51575</td>\n",
       "      <td>NaN</td>\n",
       "      <td>108209</td>\n",
       "      <td>6.967885</td>\n",
       "      <td>6.502308</td>\n",
       "      <td>4.050000</td>\n",
       "    </tr>\n",
       "    <tr>\n",
       "      <th>2</th>\n",
       "      <td>2002</td>\n",
       "      <td>122.278250</td>\n",
       "      <td>1710.250000</td>\n",
       "      <td>62.733333</td>\n",
       "      <td>5.783333</td>\n",
       "      <td>1749.000000</td>\n",
       "      <td>67.925</td>\n",
       "      <td>34847.916667</td>\n",
       "      <td>42409.0</td>\n",
       "      <td>471.691667</td>\n",
       "      <td>1852.234175</td>\n",
       "      <td>13.808333</td>\n",
       "      <td>31807</td>\n",
       "      <td>9829.83125</td>\n",
       "      <td>NaN</td>\n",
       "      <td>109297</td>\n",
       "      <td>6.537308</td>\n",
       "      <td>5.982692</td>\n",
       "      <td>4.075000</td>\n",
       "    </tr>\n",
       "    <tr>\n",
       "      <th>3</th>\n",
       "      <td>2003</td>\n",
       "      <td>133.730833</td>\n",
       "      <td>1853.750000</td>\n",
       "      <td>62.266667</td>\n",
       "      <td>5.991667</td>\n",
       "      <td>1888.416667</td>\n",
       "      <td>68.250</td>\n",
       "      <td>35444.666667</td>\n",
       "      <td>43318.0</td>\n",
       "      <td>468.883333</td>\n",
       "      <td>2152.683433</td>\n",
       "      <td>9.616667</td>\n",
       "      <td>32645</td>\n",
       "      <td>10539.13650</td>\n",
       "      <td>NaN</td>\n",
       "      <td>111278</td>\n",
       "      <td>5.826981</td>\n",
       "      <td>5.170943</td>\n",
       "      <td>3.908333</td>\n",
       "    </tr>\n",
       "    <tr>\n",
       "      <th>4</th>\n",
       "      <td>2004</td>\n",
       "      <td>150.439250</td>\n",
       "      <td>1949.500000</td>\n",
       "      <td>62.350000</td>\n",
       "      <td>5.541667</td>\n",
       "      <td>2057.583333</td>\n",
       "      <td>69.000</td>\n",
       "      <td>36300.416667</td>\n",
       "      <td>44334.0</td>\n",
       "      <td>460.575000</td>\n",
       "      <td>2399.572317</td>\n",
       "      <td>13.483333</td>\n",
       "      <td>34219</td>\n",
       "      <td>11960.45550</td>\n",
       "      <td>14.5</td>\n",
       "      <td>112000</td>\n",
       "      <td>5.839231</td>\n",
       "      <td>5.206154</td>\n",
       "      <td>4.000000</td>\n",
       "    </tr>\n",
       "  </tbody>\n",
       "</table>\n",
       "</div>"
      ],
      "text/plain": [
       "   Year  Home Prices Index  House Starting  Employment-Popu. Ratio  \\\n",
       "0  2000         104.767917     1573.333333               64.408333   \n",
       "1  2001         113.178500     1601.166667               63.666667   \n",
       "2  2002         122.278250     1710.250000               62.733333   \n",
       "3  2003         133.730833     1853.750000               62.266667   \n",
       "4  2004         150.439250     1949.500000               62.350000   \n",
       "\n",
       "   Unemployment rate       Permit  Homeownership Rate    Population  \\\n",
       "0           3.966667  1598.333333              67.375  33567.166667   \n",
       "1           4.741667  1637.166667              67.825  34148.666667   \n",
       "2           5.783333  1749.000000              67.925  34847.916667   \n",
       "3           5.991667  1888.416667              68.250  35444.666667   \n",
       "4           5.541667  2057.583333              69.000  36300.416667   \n",
       "\n",
       "   Med. Household Income  Personal Savings  Real Estate Loans  \\\n",
       "0                41990.0        356.058333        1576.631325   \n",
       "1                42228.0        389.366667        1698.124408   \n",
       "2                42409.0        471.691667        1852.234175   \n",
       "3                43318.0        468.883333        2152.683433   \n",
       "4                44334.0        460.575000        2399.572317   \n",
       "\n",
       "   Real Estate Loans.1  Personal Income per capita  \\\n",
       "0            11.700000                       30640   \n",
       "1             7.166667                       31574   \n",
       "2            13.808333                       31807   \n",
       "3             9.616667                       32645   \n",
       "4            13.483333                       34219   \n",
       "\n",
       "   Owners Equity in Real Estate  Real Estate loans  Total Housing Units  \\\n",
       "0                    7589.28200                NaN               104705   \n",
       "1                    8995.51575                NaN               108209   \n",
       "2                    9829.83125                NaN               109297   \n",
       "3                   10539.13650                NaN               111278   \n",
       "4                   11960.45550               14.5               112000   \n",
       "\n",
       "   Fixed Mortgage rate  Fixed Mortgage rate.1  houses for sale/houses sold  \n",
       "0             8.053462               7.718269                     4.233333  \n",
       "1             6.967885               6.502308                     4.050000  \n",
       "2             6.537308               5.982692                     4.075000  \n",
       "3             5.826981               5.170943                     3.908333  \n",
       "4             5.839231               5.206154                     4.000000  "
      ]
     },
     "execution_count": 311,
     "metadata": {},
     "output_type": "execute_result"
    }
   ],
   "source": [
    "df.head()"
   ]
  },
  {
   "cell_type": "code",
   "execution_count": 312,
   "metadata": {},
   "outputs": [
    {
     "data": {
      "text/plain": [
       "(21, 19)"
      ]
     },
     "execution_count": 312,
     "metadata": {},
     "output_type": "execute_result"
    }
   ],
   "source": [
    "# shape of the dataframe\n",
    "df.shape"
   ]
  },
  {
   "cell_type": "code",
   "execution_count": 313,
   "metadata": {},
   "outputs": [
    {
     "data": {
      "text/plain": [
       "Year                            0\n",
       "Home Prices Index               0\n",
       "House Starting                  0\n",
       "Employment-Popu. Ratio          0\n",
       "Unemployment rate               0\n",
       "Permit                          0\n",
       "Homeownership Rate              0\n",
       "Population                      0\n",
       "Med. Household Income           1\n",
       "Personal Savings                0\n",
       "Real Estate Loans               0\n",
       "Real Estate Loans.1             0\n",
       "Personal Income per capita      0\n",
       "Owners Equity in Real Estate    0\n",
       "Real Estate loans               4\n",
       "Total Housing Units             0\n",
       "Fixed Mortgage rate             0\n",
       "Fixed Mortgage rate.1           0\n",
       "houses for sale/houses sold     0\n",
       "dtype: int64"
      ]
     },
     "execution_count": 313,
     "metadata": {},
     "output_type": "execute_result"
    }
   ],
   "source": [
    "# null values in different features\n",
    "df.isnull().sum()"
   ]
  },
  {
   "cell_type": "code",
   "execution_count": 314,
   "metadata": {},
   "outputs": [],
   "source": [
    "#impute nan values\n",
    "for i in df.columns:\n",
    "    if(df[i].isnull().sum()>=1):\n",
    "        df[i].fillna(df[i].median(),inplace=True)"
   ]
  },
  {
   "cell_type": "code",
   "execution_count": 315,
   "metadata": {},
   "outputs": [
    {
     "data": {
      "text/plain": [
       "Year                            0\n",
       "Home Prices Index               0\n",
       "House Starting                  0\n",
       "Employment-Popu. Ratio          0\n",
       "Unemployment rate               0\n",
       "Permit                          0\n",
       "Homeownership Rate              0\n",
       "Population                      0\n",
       "Med. Household Income           0\n",
       "Personal Savings                0\n",
       "Real Estate Loans               0\n",
       "Real Estate Loans.1             0\n",
       "Personal Income per capita      0\n",
       "Owners Equity in Real Estate    0\n",
       "Real Estate loans               0\n",
       "Total Housing Units             0\n",
       "Fixed Mortgage rate             0\n",
       "Fixed Mortgage rate.1           0\n",
       "houses for sale/houses sold     0\n",
       "dtype: int64"
      ]
     },
     "execution_count": 315,
     "metadata": {},
     "output_type": "execute_result"
    }
   ],
   "source": [
    "# all nan values are imputed by median of the feature\n",
    "df.isnull().sum()"
   ]
  },
  {
   "cell_type": "code",
   "execution_count": 316,
   "metadata": {},
   "outputs": [],
   "source": [
    "# converting the integers to datetime format \n",
    "df['Year'] = pd.to_datetime(df['Year'], format='%Y') "
   ]
  },
  {
   "cell_type": "code",
   "execution_count": 317,
   "metadata": {},
   "outputs": [
    {
     "data": {
      "text/plain": [
       "<matplotlib.axes._subplots.AxesSubplot at 0x12732778>"
      ]
     },
     "execution_count": 317,
     "metadata": {},
     "output_type": "execute_result"
    },
    {
     "data": {
      "image/png": "[encoded data removed]",
      "text/plain": [
       "<Figure size 432x288 with 1 Axes>"
      ]
     },
     "metadata": {
      "needs_background": "light"
     },
     "output_type": "display_data"
    }
   ],
   "source": [
    "# dependent feature home price index vs year\n",
    "sns.lineplot(df['Year'],df['Home Prices Index'])"
   ]
  },
  {
   "cell_type": "markdown",
   "metadata": {},
   "source": [
    "### because pairplot won't be able to explain the relation of a 19d dataset because of it's limitation, we'll find best feature by the help of correlation test "
   ]
  },
  {
   "cell_type": "code",
   "execution_count": 318,
   "metadata": {},
   "outputs": [],
   "source": [
    "## making a copy of to standardize without loosing the original data-frame"
   ]
  },
  {
   "cell_type": "code",
   "execution_count": 319,
   "metadata": {},
   "outputs": [],
   "source": [
    "data=df\n",
    "data.drop(columns=['Year'],axis=1,inplace=True)"
   ]
  },
  {
   "cell_type": "code",
   "execution_count": 320,
   "metadata": {},
   "outputs": [],
   "source": [
    "# Data-preprocessing: Standardizing the data\n",
    "# data normalization with sklearn\n",
    "from sklearn.preprocessing import StandardScaler\n",
    "new_df = pd.DataFrame(StandardScaler().fit_transform(data), columns=data.columns, index=data.index)"
   ]
  },
  {
   "cell_type": "code",
   "execution_count": 321,
   "metadata": {},
   "outputs": [],
   "source": [
    "df_impor=new_df"
   ]
  },
  {
   "cell_type": "code",
   "execution_count": 322,
   "metadata": {},
   "outputs": [
    {
     "data": {
      "text/html": [
       "<div>\n",
       "<style scoped>\n",
       "    .dataframe tbody tr th:only-of-type {\n",
       "        vertical-align: middle;\n",
       "    }\n",
       "\n",
       "    .dataframe tbody tr th {\n",
       "        vertical-align: top;\n",
       "    }\n",
       "\n",
       "    .dataframe thead th {\n",
       "        text-align: right;\n",
       "    }\n",
       "</style>\n",
       "<table border=\"1\" class=\"dataframe\">\n",
       "  <thead>\n",
       "    <tr style=\"text-align: right;\">\n",
       "      <th></th>\n",
       "      <th>Home Prices Index</th>\n",
       "      <th>House Starting</th>\n",
       "      <th>Employment-Popu. Ratio</th>\n",
       "      <th>Unemployment rate</th>\n",
       "      <th>Permit</th>\n",
       "      <th>Homeownership Rate</th>\n",
       "      <th>Population</th>\n",
       "      <th>Med. Household Income</th>\n",
       "      <th>Personal Savings</th>\n",
       "      <th>Real Estate Loans</th>\n",
       "      <th>Real Estate Loans.1</th>\n",
       "      <th>Personal Income per capita</th>\n",
       "      <th>Owners Equity in Real Estate</th>\n",
       "      <th>Real Estate loans</th>\n",
       "      <th>Total Housing Units</th>\n",
       "      <th>Fixed Mortgage rate</th>\n",
       "      <th>Fixed Mortgage rate.1</th>\n",
       "      <th>houses for sale/houses sold</th>\n",
       "    </tr>\n",
       "  </thead>\n",
       "  <tbody>\n",
       "    <tr>\n",
       "      <th>0</th>\n",
       "      <td>-1.871908</td>\n",
       "      <td>0.676217</td>\n",
       "      <td>1.747560</td>\n",
       "      <td>-1.122463</td>\n",
       "      <td>0.607175</td>\n",
       "      <td>0.494486</td>\n",
       "      <td>-1.524623</td>\n",
       "      <td>-1.307395</td>\n",
       "      <td>-0.850280</td>\n",
       "      <td>-1.953333</td>\n",
       "      <td>1.199729</td>\n",
       "      <td>-1.431326</td>\n",
       "      <td>-1.342830</td>\n",
       "      <td>0.088495</td>\n",
       "      <td>-1.989526</td>\n",
       "      <td>2.282042</td>\n",
       "      <td>2.266356</td>\n",
       "      <td>-0.851264</td>\n",
       "    </tr>\n",
       "    <tr>\n",
       "      <th>1</th>\n",
       "      <td>-1.595241</td>\n",
       "      <td>0.738641</td>\n",
       "      <td>1.392501</td>\n",
       "      <td>-0.691950</td>\n",
       "      <td>0.691885</td>\n",
       "      <td>0.740752</td>\n",
       "      <td>-1.367262</td>\n",
       "      <td>-1.273649</td>\n",
       "      <td>-0.789832</td>\n",
       "      <td>-1.817915</td>\n",
       "      <td>0.445425</td>\n",
       "      <td>-1.320260</td>\n",
       "      <td>-0.946133</td>\n",
       "      <td>0.088495</td>\n",
       "      <td>-1.484479</td>\n",
       "      <td>1.445518</td>\n",
       "      <td>1.407905</td>\n",
       "      <td>-0.952730</td>\n",
       "    </tr>\n",
       "    <tr>\n",
       "      <th>2</th>\n",
       "      <td>-1.295905</td>\n",
       "      <td>0.983291</td>\n",
       "      <td>0.945685</td>\n",
       "      <td>-0.113304</td>\n",
       "      <td>0.935835</td>\n",
       "      <td>0.795477</td>\n",
       "      <td>-1.178037</td>\n",
       "      <td>-1.247985</td>\n",
       "      <td>-0.640429</td>\n",
       "      <td>-1.646143</td>\n",
       "      <td>1.550536</td>\n",
       "      <td>-1.292554</td>\n",
       "      <td>-0.710774</td>\n",
       "      <td>0.088495</td>\n",
       "      <td>-1.327661</td>\n",
       "      <td>1.113724</td>\n",
       "      <td>1.041063</td>\n",
       "      <td>-0.938894</td>\n",
       "    </tr>\n",
       "    <tr>\n",
       "      <th>3</th>\n",
       "      <td>-0.919171</td>\n",
       "      <td>1.305130</td>\n",
       "      <td>0.722277</td>\n",
       "      <td>0.002425</td>\n",
       "      <td>1.239955</td>\n",
       "      <td>0.973336</td>\n",
       "      <td>-1.016549</td>\n",
       "      <td>-1.119099</td>\n",
       "      <td>-0.645526</td>\n",
       "      <td>-1.311259</td>\n",
       "      <td>0.853082</td>\n",
       "      <td>-1.192904</td>\n",
       "      <td>-0.510680</td>\n",
       "      <td>0.088495</td>\n",
       "      <td>-1.042132</td>\n",
       "      <td>0.566361</td>\n",
       "      <td>0.467980</td>\n",
       "      <td>-1.031136</td>\n",
       "    </tr>\n",
       "    <tr>\n",
       "      <th>4</th>\n",
       "      <td>-0.369547</td>\n",
       "      <td>1.519877</td>\n",
       "      <td>0.762171</td>\n",
       "      <td>-0.247550</td>\n",
       "      <td>1.608970</td>\n",
       "      <td>1.383779</td>\n",
       "      <td>-0.784974</td>\n",
       "      <td>-0.975041</td>\n",
       "      <td>-0.660604</td>\n",
       "      <td>-1.036074</td>\n",
       "      <td>1.496459</td>\n",
       "      <td>-1.005733</td>\n",
       "      <td>-0.109728</td>\n",
       "      <td>1.471980</td>\n",
       "      <td>-0.938067</td>\n",
       "      <td>0.575800</td>\n",
       "      <td>0.492838</td>\n",
       "      <td>-0.980403</td>\n",
       "    </tr>\n",
       "  </tbody>\n",
       "</table>\n",
       "</div>"
      ],
      "text/plain": [
       "   Home Prices Index  House Starting  Employment-Popu. Ratio  \\\n",
       "0          -1.871908        0.676217                1.747560   \n",
       "1          -1.595241        0.738641                1.392501   \n",
       "2          -1.295905        0.983291                0.945685   \n",
       "3          -0.919171        1.305130                0.722277   \n",
       "4          -0.369547        1.519877                0.762171   \n",
       "\n",
       "   Unemployment rate    Permit  Homeownership Rate  Population  \\\n",
       "0          -1.122463  0.607175            0.494486   -1.524623   \n",
       "1          -0.691950  0.691885            0.740752   -1.367262   \n",
       "2          -0.113304  0.935835            0.795477   -1.178037   \n",
       "3           0.002425  1.239955            0.973336   -1.016549   \n",
       "4          -0.247550  1.608970            1.383779   -0.784974   \n",
       "\n",
       "   Med. Household Income  Personal Savings  Real Estate Loans  \\\n",
       "0              -1.307395         -0.850280          -1.953333   \n",
       "1              -1.273649         -0.789832          -1.817915   \n",
       "2              -1.247985         -0.640429          -1.646143   \n",
       "3              -1.119099         -0.645526          -1.311259   \n",
       "4              -0.975041         -0.660604          -1.036074   \n",
       "\n",
       "   Real Estate Loans.1  Personal Income per capita  \\\n",
       "0             1.199729                   -1.431326   \n",
       "1             0.445425                   -1.320260   \n",
       "2             1.550536                   -1.292554   \n",
       "3             0.853082                   -1.192904   \n",
       "4             1.496459                   -1.005733   \n",
       "\n",
       "   Owners Equity in Real Estate  Real Estate loans  Total Housing Units  \\\n",
       "0                     -1.342830           0.088495            -1.989526   \n",
       "1                     -0.946133           0.088495            -1.484479   \n",
       "2                     -0.710774           0.088495            -1.327661   \n",
       "3                     -0.510680           0.088495            -1.042132   \n",
       "4                     -0.109728           1.471980            -0.938067   \n",
       "\n",
       "   Fixed Mortgage rate  Fixed Mortgage rate.1  houses for sale/houses sold  \n",
       "0             2.282042               2.266356                    -0.851264  \n",
       "1             1.445518               1.407905                    -0.952730  \n",
       "2             1.113724               1.041063                    -0.938894  \n",
       "3             0.566361               0.467980                    -1.031136  \n",
       "4             0.575800               0.492838                    -0.980403  "
      ]
     },
     "execution_count": 322,
     "metadata": {},
     "output_type": "execute_result"
    }
   ],
   "source": [
    "new_df.head()"
   ]
  },
  {
   "cell_type": "markdown",
   "metadata": {},
   "source": [
    "### Correlation test"
   ]
  },
  {
   "cell_type": "code",
   "execution_count": 323,
   "metadata": {},
   "outputs": [
    {
     "data": {
      "text/plain": [
       "<matplotlib.axes._subplots.AxesSubplot at 0x127e9e50>"
      ]
     },
     "execution_count": 323,
     "metadata": {},
     "output_type": "execute_result"
    },
    {
     "data": {
      "image/png": "[encoded data removed]",
      "text/plain": [
       "<Figure size 792x864 with 2 Axes>"
      ]
     },
     "metadata": {
      "needs_background": "light"
     },
     "output_type": "display_data"
    }
   ],
   "source": [
    "corrmat = new_df.corr() \n",
    "  \n",
    "f, ax = plt.subplots(figsize =(11, 12)) \n",
    "sns.heatmap(corrmat, ax = ax, cmap =\"YlGnBu\", linewidths = 0.1) "
   ]
  },
  {
   "cell_type": "markdown",
   "metadata": {},
   "source": [
    "#### Listed features were highly correlated with dependent feature than any other:\n",
    "- Population\n",
    "- Med. Household Income\n",
    "- Personal Savings\n",
    "- Real Estate Loans \n",
    "- Personal Income per capita \n",
    "- Owners Equity in Real Estate\n",
    "- total housing units\n",
    "- fixed mortgage rate"
   ]
  },
  {
   "cell_type": "code",
   "execution_count": 324,
   "metadata": {},
   "outputs": [],
   "source": [
    "new_df=new_df[['Population',\n",
    "       'Med. Household Income', 'Personal Savings', 'Real Estate Loans', 'Personal Income per capita',\n",
    "       'Owners Equity in Real Estate', 'Total Housing Units', 'Fixed Mortgage rate']]"
   ]
  },
  {
   "cell_type": "code",
   "execution_count": 325,
   "metadata": {},
   "outputs": [
    {
     "data": {
      "text/html": [
       "<div>\n",
       "<style scoped>\n",
       "    .dataframe tbody tr th:only-of-type {\n",
       "        vertical-align: middle;\n",
       "    }\n",
       "\n",
       "    .dataframe tbody tr th {\n",
       "        vertical-align: top;\n",
       "    }\n",
       "\n",
       "    .dataframe thead th {\n",
       "        text-align: right;\n",
       "    }\n",
       "</style>\n",
       "<table border=\"1\" class=\"dataframe\">\n",
       "  <thead>\n",
       "    <tr style=\"text-align: right;\">\n",
       "      <th></th>\n",
       "      <th>Population</th>\n",
       "      <th>Med. Household Income</th>\n",
       "      <th>Personal Savings</th>\n",
       "      <th>Real Estate Loans</th>\n",
       "      <th>Personal Income per capita</th>\n",
       "      <th>Owners Equity in Real Estate</th>\n",
       "      <th>Total Housing Units</th>\n",
       "      <th>Fixed Mortgage rate</th>\n",
       "    </tr>\n",
       "  </thead>\n",
       "  <tbody>\n",
       "    <tr>\n",
       "      <th>0</th>\n",
       "      <td>-1.524623</td>\n",
       "      <td>-1.307395</td>\n",
       "      <td>-0.850280</td>\n",
       "      <td>-1.953333</td>\n",
       "      <td>-1.431326</td>\n",
       "      <td>-1.342830</td>\n",
       "      <td>-1.989526</td>\n",
       "      <td>2.282042</td>\n",
       "    </tr>\n",
       "    <tr>\n",
       "      <th>1</th>\n",
       "      <td>-1.367262</td>\n",
       "      <td>-1.273649</td>\n",
       "      <td>-0.789832</td>\n",
       "      <td>-1.817915</td>\n",
       "      <td>-1.320260</td>\n",
       "      <td>-0.946133</td>\n",
       "      <td>-1.484479</td>\n",
       "      <td>1.445518</td>\n",
       "    </tr>\n",
       "  </tbody>\n",
       "</table>\n",
       "</div>"
      ],
      "text/plain": [
       "   Population  Med. Household Income  Personal Savings  Real Estate Loans  \\\n",
       "0   -1.524623              -1.307395         -0.850280          -1.953333   \n",
       "1   -1.367262              -1.273649         -0.789832          -1.817915   \n",
       "\n",
       "   Personal Income per capita  Owners Equity in Real Estate  \\\n",
       "0                   -1.431326                     -1.342830   \n",
       "1                   -1.320260                     -0.946133   \n",
       "\n",
       "   Total Housing Units  Fixed Mortgage rate  \n",
       "0            -1.989526             2.282042  \n",
       "1            -1.484479             1.445518  "
      ]
     },
     "execution_count": 325,
     "metadata": {},
     "output_type": "execute_result"
    }
   ],
   "source": [
    "new_df.head(2)"
   ]
  },
  {
   "cell_type": "code",
   "execution_count": 326,
   "metadata": {},
   "outputs": [],
   "source": [
    "from sklearn.model_selection import train_test_split\n",
    "x_train,x_test,y_train,y_test=train_test_split(new_df,df['Home Prices Index'],test_size=0.20,random_state=100)"
   ]
  },
  {
   "cell_type": "code",
   "execution_count": 327,
   "metadata": {},
   "outputs": [],
   "source": [
    "from sklearn.linear_model import LinearRegression\n",
    "lreg=LinearRegression()"
   ]
  },
  {
   "cell_type": "code",
   "execution_count": 328,
   "metadata": {},
   "outputs": [
    {
     "data": {
      "text/plain": [
       "(16, 8)"
      ]
     },
     "execution_count": 328,
     "metadata": {},
     "output_type": "execute_result"
    }
   ],
   "source": [
    "x_train.shape"
   ]
  },
  {
   "cell_type": "code",
   "execution_count": 329,
   "metadata": {},
   "outputs": [
    {
     "data": {
      "text/plain": [
       "LinearRegression()"
      ]
     },
     "execution_count": 329,
     "metadata": {},
     "output_type": "execute_result"
    }
   ],
   "source": [
    "lreg.fit(x_train,y_train)"
   ]
  },
  {
   "cell_type": "code",
   "execution_count": 330,
   "metadata": {},
   "outputs": [],
   "source": [
    "pred = lreg.predict(x_test)"
   ]
  },
  {
   "cell_type": "code",
   "execution_count": 331,
   "metadata": {},
   "outputs": [
    {
     "data": {
      "text/plain": [
       "array([203.84592968, 262.92718864, 142.96352148, 196.29882042,\n",
       "       145.33975829])"
      ]
     },
     "execution_count": 331,
     "metadata": {},
     "output_type": "execute_result"
    }
   ],
   "source": [
    "pred"
   ]
  },
  {
   "cell_type": "code",
   "execution_count": 332,
   "metadata": {},
   "outputs": [
    {
     "data": {
      "text/plain": [
       "0.6353378856563204"
      ]
     },
     "execution_count": 332,
     "metadata": {},
     "output_type": "execute_result"
    }
   ],
   "source": [
    "from sklearn.metrics import r2_score\n",
    "r2_score(y_test,pred)"
   ]
  },
  {
   "cell_type": "code",
   "execution_count": 333,
   "metadata": {},
   "outputs": [],
   "source": [
    "# the accuracy could be less because we have very less values to validate the model"
   ]
  },
  {
   "cell_type": "markdown",
   "metadata": {},
   "source": [
    "### Ridge regressor"
   ]
  },
  {
   "cell_type": "code",
   "execution_count": 334,
   "metadata": {},
   "outputs": [
    {
     "data": {
      "text/plain": [
       "Ridge(alpha=0.01)"
      ]
     },
     "execution_count": 334,
     "metadata": {},
     "output_type": "execute_result"
    }
   ],
   "source": [
    "from sklearn.linear_model import Ridge\n",
    "ridge = Ridge(alpha=0.01)\n",
    "ridge.fit(x_train, y_train)"
   ]
  },
  {
   "cell_type": "code",
   "execution_count": 335,
   "metadata": {},
   "outputs": [],
   "source": [
    "pred1=ridge.predict(x_test)"
   ]
  },
  {
   "cell_type": "code",
   "execution_count": 336,
   "metadata": {},
   "outputs": [
    {
     "data": {
      "text/plain": [
       "0.7005623672952057"
      ]
     },
     "execution_count": 336,
     "metadata": {},
     "output_type": "execute_result"
    }
   ],
   "source": [
    "r2_score(y_test,pred1)"
   ]
  },
  {
   "cell_type": "markdown",
   "metadata": {},
   "source": [
    "### Lasso Regressor"
   ]
  },
  {
   "cell_type": "code",
   "execution_count": 337,
   "metadata": {},
   "outputs": [
    {
     "name": "stderr",
     "output_type": "stream",
     "text": [
      "C:\\ProgramData\\Anaconda3\\lib\\site-packages\\sklearn\\linear_model\\_coordinate_descent.py:529: ConvergenceWarning: Objective did not converge. You might want to increase the number of iterations. Duality gap: 8.425076266565636, tolerance: 1.0335326364666664\n",
      "  model = cd_fast.enet_coordinate_descent(\n"
     ]
    },
    {
     "data": {
      "text/plain": [
       "Lasso(alpha=0.01)"
      ]
     },
     "execution_count": 337,
     "metadata": {},
     "output_type": "execute_result"
    }
   ],
   "source": [
    "from sklearn.linear_model import Lasso\n",
    "ridge = Lasso(alpha=0.01)\n",
    "ridge.fit(x_train, y_train)"
   ]
  },
  {
   "cell_type": "code",
   "execution_count": 338,
   "metadata": {},
   "outputs": [],
   "source": [
    "pred2=ridge.predict(x_test)"
   ]
  },
  {
   "cell_type": "code",
   "execution_count": 339,
   "metadata": {},
   "outputs": [
    {
     "data": {
      "text/plain": [
       "0.5368130977518738"
      ]
     },
     "execution_count": 339,
     "metadata": {},
     "output_type": "execute_result"
    }
   ],
   "source": [
    "r2_score(y_test,pred2)"
   ]
  },
  {
   "cell_type": "markdown",
   "metadata": {},
   "source": [
    "Feature Importance can get the feature importance of each feature of your dataset by using the feature importance property of the model."
   ]
  },
  {
   "cell_type": "code",
   "execution_count": 346,
   "metadata": {},
   "outputs": [
    {
     "data": {
      "text/plain": [
       "ExtraTreesRegressor()"
      ]
     },
     "execution_count": 346,
     "metadata": {},
     "output_type": "execute_result"
    }
   ],
   "source": [
    "from sklearn.ensemble import ExtraTreesRegressor\n",
    "import matplotlib.pyplot as plt\n",
    "model = ExtraTreesRegressor()\n",
    "model.fit(new_df,df['Home Prices Index'])"
   ]
  },
  {
   "cell_type": "code",
   "execution_count": 347,
   "metadata": {},
   "outputs": [
    {
     "name": "stdout",
     "output_type": "stream",
     "text": [
      "[0.1649314  0.03704975 0.02436371 0.15074782 0.10107611 0.41895121\n",
      " 0.07279888 0.03008113]\n"
     ]
    }
   ],
   "source": [
    "print(model.feature_importances_) #use inbuilt class feature_importances of tree based classifiers"
   ]
  },
  {
   "cell_type": "code",
   "execution_count": 348,
   "metadata": {},
   "outputs": [
    {
     "data": {
      "image/png": "[encoded data removed]",
      "text/plain": [
       "<Figure size 432x288 with 1 Axes>"
      ]
     },
     "metadata": {
      "needs_background": "light"
     },
     "output_type": "display_data"
    }
   ],
   "source": [
    "feat_importances = pd.Series(model.feature_importances_, index=new_df.columns)\n",
    "feat_importances.nlargest().plot(kind='barh')\n",
    "plt.show()"
   ]
  },
  {
   "cell_type": "markdown",
   "metadata": {},
   "source": [
    "## Conclusion"
   ]
  },
  {
   "cell_type": "markdown",
   "metadata": {},
   "source": [
    "* A price of house is largely dependent on:\n",
    "- Owners Equity in Real Estate (how much person is investing)\n",
    "- Population\n",
    "- Real Estate Loans (Total amt. of loan that is being offered)\n",
    "- Personal Income of a person\n",
    "- No. of households Available\n",
    "    \n"
   ]
  },
  {
   "cell_type": "markdown",
   "metadata": {},
   "source": [
    "### Follow-ups"
   ]
  },
  {
   "cell_type": "markdown",
   "metadata": {},
   "source": [
    "- More features could be added up\n",
    "- ML model accuracy could be improvised by using cross validation\n",
    "- Different models could be used to train the data"
   ]
  }
 ],
 "metadata": {
  "kernelspec": {
   "display_name": "Python 3",
   "language": "python",
   "name": "python3"
  },
  "language_info": {
   "codemirror_mode": {
    "name": "ipython",
    "version": 3
   },
   "file_extension": ".py",
   "mimetype": "text/x-python",
   "name": "python",
   "nbconvert_exporter": "python",
   "pygments_lexer": "ipython3",
   "version": "3.8.3"
  }
 },
 "nbformat": 4,
 "nbformat_minor": 4
}
